{
 "cells": [
  {
   "cell_type": "code",
   "execution_count": 1,
   "id": "370ec942-230f-4694-869c-b5e32ddbb93e",
   "metadata": {
    "execution": {
     "iopub.execute_input": "2024-07-01T21:24:33.278813Z",
     "iopub.status.busy": "2024-07-01T21:24:33.278232Z",
     "iopub.status.idle": "2024-07-01T21:24:33.921023Z",
     "shell.execute_reply": "2024-07-01T21:24:33.920301Z",
     "shell.execute_reply.started": "2024-07-01T21:24:33.278762Z"
    },
    "tags": []
   },
   "outputs": [
    {
     "name": "stdout",
     "output_type": "stream",
     "text": [
      "Filesystem      Size  Used Avail Use% Mounted on\n",
      "overlay         100G   28G   73G  28% /\n",
      "tmpfs            64M     0   64M   0% /dev\n",
      "tmpfs           7.7G     0  7.7G   0% /sys/fs/cgroup\n",
      "/dev/nvme0n1p1  100G   28G   73G  28% /run\n",
      "tmpfs            14G   12K   14G   1% /dev/shm\n",
      "/dev/nvme2n1    2.0G  134M  1.8G   7% /home/jovyan\n",
      "tmpfs            14G  120K   14G   1% /home/jovyan/.saturn\n",
      "tmpfs            14G   12K   14G   1% /run/secrets/kubernetes.io/serviceaccount\n",
      "tmpfs           7.7G   12K  7.7G   1% /proc/driver/nvidia\n",
      "tmpfs           7.7G  4.1M  7.7G   1% /run/nvidia-persistenced/socket\n",
      "tmpfs           7.7G     0  7.7G   0% /proc/acpi\n",
      "tmpfs           7.7G     0  7.7G   0% /sys/firmware\n"
     ]
    }
   ],
   "source": [
    "!df -h"
   ]
  },
  {
   "cell_type": "code",
   "execution_count": 11,
   "id": "b7bc31ab-ace1-49c8-8b25-61584384150c",
   "metadata": {
    "execution": {
     "iopub.execute_input": "2024-07-01T21:31:35.514864Z",
     "iopub.status.busy": "2024-07-01T21:31:35.514483Z",
     "iopub.status.idle": "2024-07-01T21:31:39.690419Z",
     "shell.execute_reply": "2024-07-01T21:31:39.689700Z",
     "shell.execute_reply.started": "2024-07-01T21:31:35.514835Z"
    },
    "tags": []
   },
   "outputs": [],
   "source": [
    "import os\n",
    "import json\n",
    "import minsearch\n",
    "\n",
    "os.environ['HF_HOME'] = '/run/cache/'"
   ]
  },
  {
   "cell_type": "code",
   "execution_count": 3,
   "id": "5b654f0b-eb51-40fb-9a6a-8848b564feea",
   "metadata": {
    "execution": {
     "iopub.execute_input": "2024-07-01T21:24:33.928869Z",
     "iopub.status.busy": "2024-07-01T21:24:33.928229Z",
     "iopub.status.idle": "2024-07-01T21:27:27.203785Z",
     "shell.execute_reply": "2024-07-01T21:27:27.202920Z",
     "shell.execute_reply.started": "2024-07-01T21:24:33.928838Z"
    },
    "tags": []
   },
   "outputs": [
    {
     "data": {
      "application/vnd.jupyter.widget-view+json": {
       "model_id": "ca2bd28451aa4f509e8d39fa220b1f26",
       "version_major": 2,
       "version_minor": 0
      },
      "text/plain": [
       "tokenizer_config.json:   0%|          | 0.00/2.54k [00:00<?, ?B/s]"
      ]
     },
     "metadata": {},
     "output_type": "display_data"
    },
    {
     "data": {
      "application/vnd.jupyter.widget-view+json": {
       "model_id": "d2922605f04d45f2aa70889d6e3711b8",
       "version_major": 2,
       "version_minor": 0
      },
      "text/plain": [
       "spiece.model:   0%|          | 0.00/792k [00:00<?, ?B/s]"
      ]
     },
     "metadata": {},
     "output_type": "display_data"
    },
    {
     "data": {
      "application/vnd.jupyter.widget-view+json": {
       "model_id": "26b71ec7a882475d81d08df30183073e",
       "version_major": 2,
       "version_minor": 0
      },
      "text/plain": [
       "special_tokens_map.json:   0%|          | 0.00/2.20k [00:00<?, ?B/s]"
      ]
     },
     "metadata": {},
     "output_type": "display_data"
    },
    {
     "data": {
      "application/vnd.jupyter.widget-view+json": {
       "model_id": "025996952d594f1b9d4190e42c6d6b7b",
       "version_major": 2,
       "version_minor": 0
      },
      "text/plain": [
       "tokenizer.json:   0%|          | 0.00/2.42M [00:00<?, ?B/s]"
      ]
     },
     "metadata": {},
     "output_type": "display_data"
    },
    {
     "name": "stderr",
     "output_type": "stream",
     "text": [
      "You are using the default legacy behaviour of the <class 'transformers.models.t5.tokenization_t5.T5Tokenizer'>. This is expected, and simply means that the `legacy` (previous) behavior will be used so nothing changes for you. If you want to use the new behaviour, set `legacy=False`. This should only be set if you understand what it means, and thoroughly read the reason why this was added as explained in https://github.com/huggingface/transformers/pull/24565\n",
      "Special tokens have been added in the vocabulary, make sure the associated word embeddings are fine-tuned or trained.\n"
     ]
    },
    {
     "data": {
      "application/vnd.jupyter.widget-view+json": {
       "model_id": "d1753a2f4f4c43fa80a972a46e33cb12",
       "version_major": 2,
       "version_minor": 0
      },
      "text/plain": [
       "config.json:   0%|          | 0.00/1.44k [00:00<?, ?B/s]"
      ]
     },
     "metadata": {},
     "output_type": "display_data"
    },
    {
     "data": {
      "application/vnd.jupyter.widget-view+json": {
       "model_id": "80fa4f56b16349beaac460f8be917872",
       "version_major": 2,
       "version_minor": 0
      },
      "text/plain": [
       "model.safetensors.index.json:   0%|          | 0.00/53.0k [00:00<?, ?B/s]"
      ]
     },
     "metadata": {},
     "output_type": "display_data"
    },
    {
     "data": {
      "application/vnd.jupyter.widget-view+json": {
       "model_id": "5cdbc667f46d4fe194ea6c0b932b7417",
       "version_major": 2,
       "version_minor": 0
      },
      "text/plain": [
       "Downloading shards:   0%|          | 0/2 [00:00<?, ?it/s]"
      ]
     },
     "metadata": {},
     "output_type": "display_data"
    },
    {
     "data": {
      "application/vnd.jupyter.widget-view+json": {
       "model_id": "0b3dea7c574249218c3a3c345d686774",
       "version_major": 2,
       "version_minor": 0
      },
      "text/plain": [
       "model-00001-of-00002.safetensors:   0%|          | 0.00/9.45G [00:00<?, ?B/s]"
      ]
     },
     "metadata": {},
     "output_type": "display_data"
    },
    {
     "data": {
      "application/vnd.jupyter.widget-view+json": {
       "model_id": "9ba3843b62cb442492918d798a55893d",
       "version_major": 2,
       "version_minor": 0
      },
      "text/plain": [
       "model-00002-of-00002.safetensors:   0%|          | 0.00/1.95G [00:00<?, ?B/s]"
      ]
     },
     "metadata": {},
     "output_type": "display_data"
    },
    {
     "data": {
      "application/vnd.jupyter.widget-view+json": {
       "model_id": "4f3e8d5d76684e93a3fa590c8a926d0c",
       "version_major": 2,
       "version_minor": 0
      },
      "text/plain": [
       "Loading checkpoint shards:   0%|          | 0/2 [00:00<?, ?it/s]"
      ]
     },
     "metadata": {},
     "output_type": "display_data"
    },
    {
     "data": {
      "application/vnd.jupyter.widget-view+json": {
       "model_id": "8765a6c0516e4960b4c33d2cfa32f043",
       "version_major": 2,
       "version_minor": 0
      },
      "text/plain": [
       "generation_config.json:   0%|          | 0.00/147 [00:00<?, ?B/s]"
      ]
     },
     "metadata": {},
     "output_type": "display_data"
    },
    {
     "name": "stderr",
     "output_type": "stream",
     "text": [
      "/opt/saturncloud/envs/saturn/lib/python3.10/site-packages/transformers/generation/utils.py:1249: UserWarning: Using the model-agnostic default `max_length` (=20) to control the generation length. We recommend setting `max_new_tokens` to control the maximum length of the generation.\n",
      "  warnings.warn(\n"
     ]
    },
    {
     "name": "stdout",
     "output_type": "stream",
     "text": [
      "<pad> Wie alt sind Sie?</s>\n"
     ]
    }
   ],
   "source": [
    "from transformers import T5Tokenizer, T5ForConditionalGeneration\n",
    "# pip install accelerate\n",
    "\n",
    "tokenizer = T5Tokenizer.from_pretrained(\"google/flan-t5-xl\")\n",
    "model = T5ForConditionalGeneration.from_pretrained(\"google/flan-t5-xl\", device_map=\"auto\")\n",
    "\n",
    "input_text = \"translate English to German: How old are you?\"\n",
    "input_ids = tokenizer(input_text, return_tensors=\"pt\").input_ids.to(\"cuda\")\n",
    "\n",
    "outputs = model.generate(input_ids)\n",
    "print(tokenizer.decode(outputs[0]))"
   ]
  },
  {
   "cell_type": "code",
   "execution_count": 4,
   "id": "66d723f0-8a8d-4356-8236-0d23a1f6cbc7",
   "metadata": {
    "execution": {
     "iopub.execute_input": "2024-07-01T21:27:27.205913Z",
     "iopub.status.busy": "2024-07-01T21:27:27.205288Z",
     "iopub.status.idle": "2024-07-01T21:27:30.321758Z",
     "shell.execute_reply": "2024-07-01T21:27:30.320882Z",
     "shell.execute_reply.started": "2024-07-01T21:27:27.205858Z"
    },
    "tags": []
   },
   "outputs": [
    {
     "name": "stdout",
     "output_type": "stream",
     "text": [
      "Requirement already satisfied: sentencepiece in /opt/saturncloud/envs/saturn/lib/python3.10/site-packages (0.2.0)\n"
     ]
    }
   ],
   "source": [
    "!pip install sentencepiece"
   ]
  },
  {
   "cell_type": "code",
   "execution_count": 5,
   "id": "c55daedd-00e3-4286-bdd3-06688cb181e6",
   "metadata": {
    "execution": {
     "iopub.execute_input": "2024-07-01T21:29:26.185678Z",
     "iopub.status.busy": "2024-07-01T21:29:26.185292Z",
     "iopub.status.idle": "2024-07-01T21:29:26.929327Z",
     "shell.execute_reply": "2024-07-01T21:29:26.928432Z",
     "shell.execute_reply.started": "2024-07-01T21:29:26.185650Z"
    },
    "tags": []
   },
   "outputs": [
    {
     "name": "stdout",
     "output_type": "stream",
     "text": [
      "Mon Jul  1 21:29:26 2024       \n",
      "+---------------------------------------------------------------------------------------+\n",
      "| NVIDIA-SMI 535.183.01             Driver Version: 535.183.01   CUDA Version: 12.2     |\n",
      "|-----------------------------------------+----------------------+----------------------+\n",
      "| GPU  Name                 Persistence-M | Bus-Id        Disp.A | Volatile Uncorr. ECC |\n",
      "| Fan  Temp   Perf          Pwr:Usage/Cap |         Memory-Usage | GPU-Util  Compute M. |\n",
      "|                                         |                      |               MIG M. |\n",
      "|=========================================+======================+======================|\n",
      "|   0  Tesla T4                       On  | 00000000:00:1E.0 Off |                    0 |\n",
      "| N/A   41C    P0              33W /  70W |  11033MiB / 15360MiB |      0%      Default |\n",
      "|                                         |                      |                  N/A |\n",
      "+-----------------------------------------+----------------------+----------------------+\n",
      "                                                                                         \n",
      "+---------------------------------------------------------------------------------------+\n",
      "| Processes:                                                                            |\n",
      "|  GPU   GI   CI        PID   Type   Process name                            GPU Memory |\n",
      "|        ID   ID                                                             Usage      |\n",
      "|=======================================================================================|\n",
      "+---------------------------------------------------------------------------------------+\n"
     ]
    }
   ],
   "source": [
    "!nvidia-smi"
   ]
  },
  {
   "cell_type": "code",
   "execution_count": 8,
   "id": "08033ae9-6f1c-4306-aae5-255d917498df",
   "metadata": {
    "execution": {
     "iopub.execute_input": "2024-07-01T21:30:27.366694Z",
     "iopub.status.busy": "2024-07-01T21:30:27.366289Z",
     "iopub.status.idle": "2024-07-01T21:30:27.375221Z",
     "shell.execute_reply": "2024-07-01T21:30:27.374532Z",
     "shell.execute_reply.started": "2024-07-01T21:30:27.366665Z"
    },
    "tags": []
   },
   "outputs": [],
   "source": [
    "with open('./documents.json', 'rt') as f_in:\n",
    "    docs_raw = json.load(f_in)\n",
    "\n",
    "documents = []\n",
    "for course_dict in docs_raw:\n",
    "    for doc in course_dict['documents']:\n",
    "        doc['course'] = course_dict['course']\n",
    "        documents.append(doc)"
   ]
  },
  {
   "cell_type": "code",
   "execution_count": 12,
   "id": "5e09851c-57a5-4aa5-8906-9bc644823901",
   "metadata": {
    "execution": {
     "iopub.execute_input": "2024-07-01T21:31:41.562106Z",
     "iopub.status.busy": "2024-07-01T21:31:41.561533Z",
     "iopub.status.idle": "2024-07-01T21:31:41.684909Z",
     "shell.execute_reply": "2024-07-01T21:31:41.683987Z",
     "shell.execute_reply.started": "2024-07-01T21:31:41.562075Z"
    },
    "tags": []
   },
   "outputs": [
    {
     "data": {
      "text/plain": [
       "<minsearch.Index at 0x7f038ca98910>"
      ]
     },
     "execution_count": 12,
     "metadata": {},
     "output_type": "execute_result"
    }
   ],
   "source": [
    "index = minsearch.Index(\n",
    "    text_fields=[\"question\", \"text\", \"section\"],\n",
    "    keyword_fields=[\"course\"]\n",
    ")\n",
    "\n",
    "index.fit(documents)\n"
   ]
  },
  {
   "cell_type": "code",
   "execution_count": 13,
   "id": "e692d241-133f-4409-8925-8ee2323fae70",
   "metadata": {
    "execution": {
     "iopub.execute_input": "2024-07-01T21:31:48.983869Z",
     "iopub.status.busy": "2024-07-01T21:31:48.983443Z",
     "iopub.status.idle": "2024-07-01T21:31:48.988053Z",
     "shell.execute_reply": "2024-07-01T21:31:48.987283Z",
     "shell.execute_reply.started": "2024-07-01T21:31:48.983839Z"
    },
    "tags": []
   },
   "outputs": [],
   "source": [
    "def search(query):\n",
    "    boost = {'question': 3.0, 'section': 0.5}\n",
    "\n",
    "    results = index.search(\n",
    "        query=query,\n",
    "        filter_dict={'course': 'data-engineering-zoomcamp'},\n",
    "        boost_dict=boost,\n",
    "        num_results=5\n",
    "    )\n",
    "\n",
    "    return results"
   ]
  },
  {
   "cell_type": "code",
   "execution_count": 14,
   "id": "6cf9dfc2-6bac-47c8-a29d-7fb53ff46a5d",
   "metadata": {
    "execution": {
     "iopub.execute_input": "2024-07-01T21:32:05.816181Z",
     "iopub.status.busy": "2024-07-01T21:32:05.815762Z",
     "iopub.status.idle": "2024-07-01T21:32:05.820253Z",
     "shell.execute_reply": "2024-07-01T21:32:05.819302Z",
     "shell.execute_reply.started": "2024-07-01T21:32:05.816153Z"
    },
    "tags": []
   },
   "outputs": [],
   "source": [
    "def rag(query):\n",
    "    search_results = search(query)\n",
    "    prompt = build_prompt(query, search_results)\n",
    "    answer = llm(prompt)\n",
    "    return answer"
   ]
  },
  {
   "cell_type": "code",
   "execution_count": 15,
   "id": "95e6618e-2c3b-4c8a-942e-593624513f3e",
   "metadata": {
    "execution": {
     "iopub.execute_input": "2024-07-01T21:32:14.609688Z",
     "iopub.status.busy": "2024-07-01T21:32:14.609289Z",
     "iopub.status.idle": "2024-07-01T21:32:14.614961Z",
     "shell.execute_reply": "2024-07-01T21:32:14.614091Z",
     "shell.execute_reply.started": "2024-07-01T21:32:14.609658Z"
    },
    "tags": []
   },
   "outputs": [],
   "source": [
    "def build_prompt(query, search_results):\n",
    "    prompt_template = \"\"\"\n",
    "You're a course teaching assistant. Answer the QUESTION based on the CONTEXT from the FAQ database.\n",
    "Use only the facts from the CONTEXT when answering the QUESTION.\n",
    "\n",
    "QUESTION: {question}\n",
    "\n",
    "CONTEXT:\n",
    "{context}\n",
    "\"\"\".strip()\n",
    "\n",
    "    context = \"\"\n",
    "    \n",
    "    for doc in search_results:\n",
    "        context = context + f\"section: {doc['section']}\\nquestion: {doc['question']}\\nanswer: {doc['text']}\\n\\n\"\n",
    "    \n",
    "    prompt = prompt_template.format(question=query, context=context).strip()\n",
    "    return prompt\n",
    "\n",
    "def llm(prompt):\n",
    "    input_ids = tokenizer(prompt, return_tensors=\"pt\").input_ids.to(\"cuda\")\n",
    "    outputs = model.generate(input_ids, )\n",
    "    result = tokenizer.decode(outputs[0])\n",
    "    return result"
   ]
  },
  {
   "cell_type": "code",
   "execution_count": 16,
   "id": "42a6f1dc-3213-4ca1-8904-1ba6f1bef4e5",
   "metadata": {
    "execution": {
     "iopub.execute_input": "2024-07-01T21:32:24.419168Z",
     "iopub.status.busy": "2024-07-01T21:32:24.418758Z",
     "iopub.status.idle": "2024-07-01T21:32:24.424784Z",
     "shell.execute_reply": "2024-07-01T21:32:24.423745Z",
     "shell.execute_reply.started": "2024-07-01T21:32:24.419141Z"
    },
    "tags": []
   },
   "outputs": [],
   "source": [
    "def llm(prompt, generate_params=None):\n",
    "    if generate_params is None:\n",
    "        generate_params = {}\n",
    "\n",
    "    input_ids = tokenizer(prompt, return_tensors=\"pt\").input_ids.to(\"cuda\")\n",
    "    outputs = model.generate(\n",
    "        input_ids,\n",
    "        max_length=generate_params.get(\"max_length\", 100),\n",
    "        num_beams=generate_params.get(\"num_beams\", 5),\n",
    "        do_sample=generate_params.get(\"do_sample\", False),\n",
    "        temperature=generate_params.get(\"temperature\", 1.0),\n",
    "        top_k=generate_params.get(\"top_k\", 50),\n",
    "        top_p=generate_params.get(\"top_p\", 0.95),\n",
    "    )\n",
    "    result = tokenizer.decode(outputs[0], skip_special_tokens=True)\n",
    "    return result"
   ]
  },
  {
   "cell_type": "code",
   "execution_count": 17,
   "id": "5e2c5da2-3f87-4e58-af4e-bc344f3b61f0",
   "metadata": {
    "execution": {
     "iopub.execute_input": "2024-07-01T21:32:28.794598Z",
     "iopub.status.busy": "2024-07-01T21:32:28.794191Z",
     "iopub.status.idle": "2024-07-01T21:32:32.503323Z",
     "shell.execute_reply": "2024-07-01T21:32:32.502243Z",
     "shell.execute_reply.started": "2024-07-01T21:32:28.794569Z"
    },
    "tags": []
   },
   "outputs": [
    {
     "name": "stderr",
     "output_type": "stream",
     "text": [
      "/opt/saturncloud/envs/saturn/lib/python3.10/site-packages/transformers/generation/configuration_utils.py:545: UserWarning: `do_sample` is set to `False`. However, `top_p` is set to `0.95` -- this flag is only used in sample-based generation modes. You should set `do_sample=True` or unset `top_p`.\n",
      "  warnings.warn(\n"
     ]
    },
    {
     "data": {
      "text/plain": [
       "\"Yes, even if you don't register, you're still eligible to submit the homeworks. Be aware, however, that there will be deadlines for turning in the final projects. So don't leave everything for the last minute.\""
      ]
     },
     "execution_count": 17,
     "metadata": {},
     "output_type": "execute_result"
    }
   ],
   "source": [
    "rag(\"I just discovered the course. Can I still join it?\")"
   ]
  }
 ],
 "metadata": {
  "kernelspec": {
   "display_name": "saturn (Python 3)",
   "language": "python",
   "name": "python3"
  },
  "language_info": {
   "codemirror_mode": {
    "name": "ipython",
    "version": 3
   },
   "file_extension": ".py",
   "mimetype": "text/x-python",
   "name": "python",
   "nbconvert_exporter": "python",
   "pygments_lexer": "ipython3",
   "version": "3.10.13"
  }
 },
 "nbformat": 4,
 "nbformat_minor": 5
}
