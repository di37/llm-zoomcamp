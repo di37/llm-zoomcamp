{
 "cells": [
  {
   "cell_type": "code",
   "execution_count": 1,
   "metadata": {},
   "outputs": [],
   "source": [
    "import minsearch\n",
    "import json\n",
    "\n",
    "from openai import OpenAI"
   ]
  },
  {
   "cell_type": "code",
   "execution_count": 2,
   "metadata": {},
   "outputs": [],
   "source": [
    "with open('./documents.json', 'rt') as f_in:\n",
    "    docs_raw = json.load(f_in)\n",
    "\n",
    "documents = []\n",
    "for course_dict in docs_raw:\n",
    "    for doc in course_dict['documents']:\n",
    "        doc['course'] = course_dict['course']\n",
    "        documents.append(doc)"
   ]
  },
  {
   "cell_type": "code",
   "execution_count": 3,
   "metadata": {},
   "outputs": [],
   "source": [
    "def execute_search(index, query, filter_options, boost_options, num_results):\n",
    "    \"\"\"Performs a search on the given index with specified filters and boosting.\"\"\"\n",
    "    return index.search(\n",
    "        query=query,\n",
    "        filter_dict=filter_options,\n",
    "        boost_dict=boost_options,\n",
    "        num_results=num_results\n",
    "    )\n",
    "\n",
    "def format_prompt(search_results, question, context_template):\n",
    "    \"\"\"Formats a prompt using the search results, question, and a context template.\"\"\"\n",
    "    formatted_context = \"\"\n",
    "\n",
    "    for result in search_results:\n",
    "        formatted_context += f\"section: {result['section']}\\nquestion: {result['question']}\\ntext: {result['text']}\\n\\n\"\n",
    "\n",
    "    return context_template.format(question=question, context=formatted_context)\n",
    "\n",
    "def ask_question_with_context(model, question, context):\n",
    "    \"\"\"Uses a model to generate an answer based on a question and a context.\"\"\"\n",
    "    prompt_template = \"\"\"\n",
    "    You're a course teaching assistant. Answer the QUESTION based on the CONTEXT from the FAQ database.\n",
    "    Use only the facts from the CONTEXT when answering the QUESTION.\n",
    "    If the CONTEXT doesn't contain the answer, output NONE.\n",
    "\n",
    "    QUESTION: {question}\n",
    "\n",
    "    CONTEXT:\n",
    "    {context}\n",
    "    \"\"\".strip()\n",
    "    client = OpenAI()\n",
    "    prompt = format_prompt(context, question, prompt_template)\n",
    "    response = client.chat.completions.create(\n",
    "        model=model,\n",
    "        messages=[{'role': 'user', 'content': prompt}]\n",
    "    )\n",
    "    return response.choices[0].message.content\n",
    "\n",
    "# Example of how these functions could be used together:\n",
    "def rag(model, index, question, filter_dict, boost_dict, num_results):\n",
    "    search_results = execute_search(index, question, filter_dict, boost_dict, num_results)\n",
    "    answer = ask_question_with_context(model, question, search_results)\n",
    "    return answer"
   ]
  },
  {
   "cell_type": "code",
   "execution_count": 4,
   "metadata": {},
   "outputs": [
    {
     "data": {
      "text/plain": [
       "<minsearch.Index at 0x76f4600d03d0>"
      ]
     },
     "execution_count": 4,
     "metadata": {},
     "output_type": "execute_result"
    }
   ],
   "source": [
    "index = minsearch.Index(\n",
    "    text_fields=['question', 'text', 'section'],\n",
    "    keyword_fields=['course']\n",
    ")\n",
    "index.fit(documents)"
   ]
  },
  {
   "cell_type": "code",
   "execution_count": 5,
   "metadata": {},
   "outputs": [],
   "source": [
    "model = 'gpt-4o'\n",
    "filter_dict = {'course': 'data-engineering-zoomcamp'}\n",
    "boost_dict = {'question': 3.0, 'section': 0.5}\n",
    "num_results = 5\n",
    "\n",
    "question = 'The course has already started. Can I still enroll?'"
   ]
  },
  {
   "cell_type": "code",
   "execution_count": 6,
   "metadata": {},
   "outputs": [
    {
     "data": {
      "text/plain": [
       "\"Yes, you can still enroll in the course even if it has already started. Be aware, however, that there will be deadlines for turning in the final projects, so don't leave everything for the last minute.\""
      ]
     },
     "execution_count": 6,
     "metadata": {},
     "output_type": "execute_result"
    }
   ],
   "source": [
    "rag(model, index, question, filter_dict, boost_dict, num_results)"
   ]
  }
 ],
 "metadata": {
  "kernelspec": {
   "display_name": "Python 3",
   "language": "python",
   "name": "python3"
  },
  "language_info": {
   "codemirror_mode": {
    "name": "ipython",
    "version": 3
   },
   "file_extension": ".py",
   "mimetype": "text/x-python",
   "name": "python",
   "nbconvert_exporter": "python",
   "pygments_lexer": "ipython3",
   "version": "3.10.13"
  }
 },
 "nbformat": 4,
 "nbformat_minor": 2
}
