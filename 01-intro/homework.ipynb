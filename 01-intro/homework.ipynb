{
 "cells": [
  {
   "cell_type": "code",
   "execution_count": 1,
   "metadata": {},
   "outputs": [],
   "source": [
    "from openai import OpenAI\n",
    "from dotenv import load_dotenv"
   ]
  },
  {
   "cell_type": "code",
   "execution_count": 2,
   "metadata": {},
   "outputs": [],
   "source": [
    "client = OpenAI()"
   ]
  },
  {
   "cell_type": "code",
   "execution_count": 3,
   "metadata": {},
   "outputs": [],
   "source": [
    "response = client.chat.completions.create(\n",
    "    model=\"gpt-4o\",\n",
    "    messages=[{\"role\": \"user\", \"content\": \"is it too late to join the course?\"}]\n",
    ")"
   ]
  },
  {
   "cell_type": "code",
   "execution_count": 7,
   "metadata": {},
   "outputs": [
    {
     "name": "stdout",
     "output_type": "stream",
     "text": [
      "The timing for joining a course can vary widely depending on a number of factors including the institution offering it, the specific course structure, and the enrollment policies. Here are a few steps to take to determine if it's too late to join:\n",
      "\n",
      "1. **Check Enrollment Deadlines**: Look at the official website of the institution offering the course. Most institutions will have clear deadlines for enrollment.\n",
      "\n",
      "2. **Contact the Instructor or Administration Office**: Even if the deadline has passed, it's often worth reaching out to the course instructor or the institution's administration office. In some cases, they may allow late enrollment under special circumstances.\n",
      "\n",
      "3. **Consider Catch-Up Work**: If you’re joining late, ask about the coursework that has already been covered. Determine if you have the time and resources to catch up effectively.\n",
      "\n",
      "4. **Online Courses**: For online courses, especially those that are self-paced, enrollment might be flexible. Check the specifics of the course.\n",
      "\n",
      "5. **Waitlist Options**: Some courses have a waitlist. Even if the course is currently full, you might be able to join later if a spot opens up.\n",
      "\n",
      "6. **Next Term or Session**: If it's definitely too late for the current term, inquire about the next available session. \n",
      "\n",
      "It’s always best to act promptly if you really want to join to minimize the amount of content you’d need to catch up on. Good luck!\n"
     ]
    }
   ],
   "source": [
    "print(response.choices[0].message.content)"
   ]
  },
  {
   "cell_type": "code",
   "execution_count": null,
   "metadata": {},
   "outputs": [],
   "source": []
  },
  {
   "cell_type": "code",
   "execution_count": null,
   "metadata": {},
   "outputs": [],
   "source": []
  },
  {
   "cell_type": "code",
   "execution_count": null,
   "metadata": {},
   "outputs": [],
   "source": []
  }
 ],
 "metadata": {
  "kernelspec": {
   "display_name": "Python 3",
   "language": "python",
   "name": "python3"
  },
  "language_info": {
   "codemirror_mode": {
    "name": "ipython",
    "version": 3
   },
   "file_extension": ".py",
   "mimetype": "text/x-python",
   "name": "python",
   "nbconvert_exporter": "python",
   "pygments_lexer": "ipython3",
   "version": "3.10.13"
  }
 },
 "nbformat": 4,
 "nbformat_minor": 2
}
